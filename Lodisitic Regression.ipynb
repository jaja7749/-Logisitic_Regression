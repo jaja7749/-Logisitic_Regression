{
 "cells": [
  {
   "cell_type": "code",
   "execution_count": 1,
   "metadata": {},
   "outputs": [],
   "source": [
    "import numpy as np\n",
    "import pandas as pd\n",
    "from sklearn.feature_extraction.text import CountVectorizer\n",
    "import matplotlib.pyplot as plt\n",
    "from sklearn.metrics import confusion_matrix, ConfusionMatrixDisplay\n",
    "from sklearn.metrics import accuracy_score\n",
    "from tqdm import tqdm"
   ]
  },
  {
   "cell_type": "markdown",
   "metadata": {},
   "source": [
    "# Feature Extraction and Build Dataset"
   ]
  },
  {
   "cell_type": "markdown",
   "metadata": {},
   "source": [
    "The email data file is on: https://github.com/justmarkham/DAT5/blob/master/data/SMSSpamCollection.txt"
   ]
  },
  {
   "cell_type": "code",
   "execution_count": 2,
   "metadata": {},
   "outputs": [],
   "source": [
    "class dataloader:\n",
    "    def __inti__(self):\n",
    "        None\n",
    "        \n",
    "    def loadfile(self, filepath):\n",
    "        f = open(filepath,'r')\n",
    "        data = [line.strip() for line in f]\n",
    "        data = pd.DataFrame(np.array([data[i].split(\"\\t\") for i in range(len(data))]), columns=(\"label\", \"content\"))\n",
    "        data[\"label\"] = data[\"label\"].replace([\"ham\", \"spam\"], [0, 1])\n",
    "        self.data = data\n",
    "        self.y = data[\"label\"]\n",
    "\n",
    "    def datatransform(self, data=None, new_data=False):\n",
    "        vectorizer = CountVectorizer(strip_accents='ascii', token_pattern=\"[^\\W\\d_]+\")\n",
    "        X = vectorizer.fit_transform(self.data[\"content\"])\n",
    "        self.col = vectorizer.get_feature_names_out()\n",
    "        self.X = X.toarray()\n",
    "        if new_data == True:\n",
    "            X_ = vectorizer.transform(data).toarray()\n",
    "            return X_"
   ]
  },
  {
   "cell_type": "code",
   "execution_count": 3,
   "metadata": {},
   "outputs": [
    {
     "data": {
      "text/html": [
       "<div>\n",
       "<style scoped>\n",
       "    .dataframe tbody tr th:only-of-type {\n",
       "        vertical-align: middle;\n",
       "    }\n",
       "\n",
       "    .dataframe tbody tr th {\n",
       "        vertical-align: top;\n",
       "    }\n",
       "\n",
       "    .dataframe thead th {\n",
       "        text-align: right;\n",
       "    }\n",
       "</style>\n",
       "<table border=\"1\" class=\"dataframe\">\n",
       "  <thead>\n",
       "    <tr style=\"text-align: right;\">\n",
       "      <th></th>\n",
       "      <th>label</th>\n",
       "      <th>content</th>\n",
       "    </tr>\n",
       "  </thead>\n",
       "  <tbody>\n",
       "    <tr>\n",
       "      <th>0</th>\n",
       "      <td>0</td>\n",
       "      <td>Go until jurong point, crazy.. Available only ...</td>\n",
       "    </tr>\n",
       "    <tr>\n",
       "      <th>1</th>\n",
       "      <td>0</td>\n",
       "      <td>Ok lar... Joking wif u oni...</td>\n",
       "    </tr>\n",
       "    <tr>\n",
       "      <th>2</th>\n",
       "      <td>1</td>\n",
       "      <td>Free entry in 2 a wkly comp to win FA Cup fina...</td>\n",
       "    </tr>\n",
       "    <tr>\n",
       "      <th>3</th>\n",
       "      <td>0</td>\n",
       "      <td>U dun say so early hor... U c already then say...</td>\n",
       "    </tr>\n",
       "    <tr>\n",
       "      <th>4</th>\n",
       "      <td>0</td>\n",
       "      <td>Nah I don't think he goes to usf, he lives aro...</td>\n",
       "    </tr>\n",
       "  </tbody>\n",
       "</table>\n",
       "</div>"
      ],
      "text/plain": [
       "   label                                            content\n",
       "0      0  Go until jurong point, crazy.. Available only ...\n",
       "1      0                      Ok lar... Joking wif u oni...\n",
       "2      1  Free entry in 2 a wkly comp to win FA Cup fina...\n",
       "3      0  U dun say so early hor... U c already then say...\n",
       "4      0  Nah I don't think he goes to usf, he lives aro..."
      ]
     },
     "execution_count": 3,
     "metadata": {},
     "output_type": "execute_result"
    }
   ],
   "source": [
    "file = 'SMSSpamCollection.txt'\n",
    "dataset = dataloader()\n",
    "dataset.loadfile(file)\n",
    "dataset.datatransform()\n",
    "X, y, col  = np.array(dataset.X), np.array(dataset.y), dataset.col\n",
    "dataset.data.head()"
   ]
  },
  {
   "cell_type": "code",
   "execution_count": 4,
   "metadata": {},
   "outputs": [],
   "source": [
    "class LR:\n",
    "    def __init__(self, X, y):\n",
    "        self.X = X\n",
    "        self.y = y\n",
    "        self.w = np.random.randn(1, X.shape[-1])\n",
    "        \n",
    "    def sigmoid(self, x):\n",
    "        return 1/(1+np.exp(-x))\n",
    "    \n",
    "    def sigmoid_backward(self, x):\n",
    "        return np.exp(-x)/np.power(1 + np.exp(-x), 2)\n",
    "    \n",
    "    def loss_function(self, y, y_pred):\n",
    "        return 0.5* np.power(y-y_pred, 2)\n",
    "    \n",
    "    def sign(self, x):\n",
    "        for i in range(len(x)):\n",
    "            x[i] = 1 if x[i]>=0.5 else 0\n",
    "        return x\n",
    "    \n",
    "    def SGD(self, epoch, batch, learning_rate=0.1):\n",
    "        loss = np.array([])\n",
    "        loop = tqdm(range(epoch))\n",
    "        for i in enumerate(loop):\n",
    "            g = np.zeros(self.w.shape)\n",
    "            for j in np.random.choice(len(self.X), batch, replace=False):\n",
    "                g += (y[j]-self.sigmoid(np.dot(self.w, np.atleast_2d(self.X[j]).T))) * (-self.sigmoid_backward(np.dot(self.w, np.atleast_2d(self.X[j]).T))) * self.X[j]\n",
    "            g = g/batch\n",
    "            self.w -= learning_rate * g\n",
    "            loss = np.append(loss, np.average(self.loss_function(y, self.sigmoid(np.dot(self.w, self.X.T)))))\n",
    "            loop.set_postfix(train_loss=str(loss[-1]))\n",
    "        self.loss = loss\n",
    "    \n",
    "    def pred(self, X):\n",
    "        return self.sign(self.sigmoid(np.dot(self.w, X.T))[-1])"
   ]
  },
  {
   "cell_type": "code",
   "execution_count": 5,
   "metadata": {},
   "outputs": [],
   "source": [
    "np.random.seed(1)\n",
    "model = LR(X, y)"
   ]
  },
  {
   "cell_type": "code",
   "execution_count": 6,
   "metadata": {},
   "outputs": [
    {
     "name": "stderr",
     "output_type": "stream",
     "text": [
      "100%|██████████| 10000/10000 [15:07<00:00, 11.02it/s, train_loss=0.0048489542336623]  \n"
     ]
    }
   ],
   "source": [
    "epoch, batch, learning_rate = 10000, 100, 10\n",
    "model.SGD(epoch, batch, learning_rate)"
   ]
  },
  {
   "cell_type": "code",
   "execution_count": 15,
   "metadata": {},
   "outputs": [
    {
     "name": "stdout",
     "output_type": "stream",
     "text": [
      "Accuracy: 99.049 %\n"
     ]
    },
    {
     "data": {
      "image/png": "[encoded data removed]",
      "text/plain": [
       "<Figure size 640x480 with 2 Axes>"
      ]
     },
     "metadata": {},
     "output_type": "display_data"
    }
   ],
   "source": [
    "y_pred = model.pred(X)\n",
    "acc = accuracy_score(y, y_pred)\n",
    "print(f\"Accuracy: {(np.sum(y==y_pred)/len(y))*100:.3f} %\")\n",
    "cm = confusion_matrix(y, y_pred, labels=[0, 1])\n",
    "cm_display = ConfusionMatrixDisplay(cm, display_labels=[0, 1])\n",
    "cm_display.plot()\n",
    "plt.show()"
   ]
  },
  {
   "cell_type": "code",
   "execution_count": 8,
   "metadata": {},
   "outputs": [
    {
     "data": {
      "image/png": "[encoded data removed]",
      "text/plain": [
       "<Figure size 640x480 with 1 Axes>"
      ]
     },
     "metadata": {},
     "output_type": "display_data"
    }
   ],
   "source": [
    "plt.plot(range(epoch), model.loss)\n",
    "\n",
    "plt.grid()\n",
    "plt.xlabel(\"iterations(epoch)\")\n",
    "plt.ylabel(\"loss\")\n",
    " \n",
    "plt.show()"
   ]
  },
  {
   "cell_type": "code",
   "execution_count": 9,
   "metadata": {},
   "outputs": [],
   "source": [
    "# test1, test2 are [spam, ham]\n",
    "test1 = \"You are a winner U have been specially selected 2 receive £1000 cash or a 4* holiday (flights inc) speak to a live operator 2 claim 0871277810810\"\n",
    "test2 = \"I just reached home. I go bathe first. But my sis using net tell u when she finishes k...\"\n",
    "test = np.array([test1, test2])"
   ]
  },
  {
   "cell_type": "code",
   "execution_count": 11,
   "metadata": {},
   "outputs": [
    {
     "name": "stdout",
     "output_type": "stream",
     "text": [
      "Naive Bayes Predict(1:spam, 0:ham): [1. 0.]\n"
     ]
    }
   ],
   "source": [
    "X_ = dataset.datatransform(data=test, new_data=True)\n",
    "print(\"Naive Bayes Predict(1:spam, 0:ham):\", model.pred(X_))"
   ]
  }
 ],
 "metadata": {
  "kernelspec": {
   "display_name": "AI_learn",
   "language": "python",
   "name": "python3"
  },
  "language_info": {
   "codemirror_mode": {
    "name": "ipython",
    "version": 3
   },
   "file_extension": ".py",
   "mimetype": "text/x-python",
   "name": "python",
   "nbconvert_exporter": "python",
   "pygments_lexer": "ipython3",
   "version": "3.11.4"
  }
 },
 "nbformat": 4,
 "nbformat_minor": 2
}
